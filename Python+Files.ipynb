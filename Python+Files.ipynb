{
 "cells": [
  {
   "cell_type": "code",
   "execution_count": 27,
   "metadata": {},
   "outputs": [
    {
     "name": "stdout",
     "output_type": "stream",
     "text": [
      "3\n"
     ]
    }
   ],
   "source": [
    "# 9. Write a Python program to count the number of lines in a text file\n",
    "myFile = open(\"demoFile.txt\")\n",
    "totalLines = 0\n",
    "for i,j in enumerate(myFile):\n",
    "    totalLines = i+1\n",
    "print(totalLines)\n",
    "myFile.close()"
   ]
  },
  {
   "cell_type": "code",
   "execution_count": 35,
   "metadata": {},
   "outputs": [
    {
     "data": {
      "text/plain": [
       "3"
      ]
     },
     "execution_count": 35,
     "metadata": {},
     "output_type": "execute_result"
    }
   ],
   "source": [
    "# solution from the w3resources\n",
    "\n",
    "def totalLine(file):\n",
    "    with open(file) as f:\n",
    "        for i, j in enumerate(f):\n",
    "            pass\n",
    "    return i+1\n",
    "totalLine(\"demoFile.txt\")"
   ]
  },
  {
   "cell_type": "code",
   "execution_count": 36,
   "metadata": {},
   "outputs": [
    {
     "name": "stdout",
     "output_type": "stream",
     "text": [
      "Hello! Welcome to demofile.txt\n",
      "\n",
      "This file is for testing purposes.\n",
      "\n",
      "Good Luck!\n",
      "Hello! Welcome to demofile.txt\n",
      "This file is for testing purposes.\n",
      "Good Luck!"
     ]
    }
   ],
   "source": [
    "# 13. Write a Python Program to copy the contents of a file to another file\n",
    "\n",
    "myFile = open(\"demoFile.txt\")\n",
    "otherFile = open(\"otherFile.txt\", \"w\")\n",
    "\n",
    "for line in myFile:\n",
    "    print(line)\n",
    "    otherFile.write(line)\n",
    "    \n",
    "otherFile.close()\n",
    "myFile.close()\n",
    "\n",
    "readFile = open(\"otherFile.txt\", \"r\")\n",
    "for line in readFile:\n",
    "    print(line, end='')\n",
    "    \n",
    "readFile.close()"
   ]
  },
  {
   "cell_type": "code",
   "execution_count": 32,
   "metadata": {},
   "outputs": [
    {
     "name": "stdout",
     "output_type": "stream",
     "text": [
      "['Hello! Welcome to demofile.txt\\n', 'This file is for testing purposes.\\n', 'Good Luck!']\n"
     ]
    }
   ],
   "source": [
    "# 7. Write a Python program to read a file line by line store it into an array\n",
    "f = open(\"demoFile.txt\")\n",
    "c_array = []\n",
    "for line in f:\n",
    "    c_array.append(line)\n",
    "print(c_array)\n",
    "f.close()"
   ]
  },
  {
   "cell_type": "code",
   "execution_count": 37,
   "metadata": {},
   "outputs": [
    {
     "name": "stdout",
     "output_type": "stream",
     "text": [
      "<class 'list'>\n"
     ]
    }
   ],
   "source": [
    "# 5. Write a Python program to read a file line by line and store it into a list\n",
    "# 1st method\n",
    "myfile = open(\"demoFile.txt\")\n",
    "new_list = myfile.readlines()\n",
    "print(type(new_list))"
   ]
  },
  {
   "cell_type": "code",
   "execution_count": 34,
   "metadata": {},
   "outputs": [
    {
     "name": "stdout",
     "output_type": "stream",
     "text": [
      "['Hello! Welcome to demofile.txt\\n', 'This file is for testing purposes.\\n', 'Good Luck!']\n"
     ]
    }
   ],
   "source": [
    "# 2nd method\n",
    "def addfiletolist(filename):\n",
    "    with open(filename) as f:\n",
    "        new_list = f.readlines()\n",
    "        print(new_list)\n",
    "        \n",
    "addfiletolist(\"demoFile.txt\")"
   ]
  }
 ],
 "metadata": {
  "kernelspec": {
   "display_name": "Python 3",
   "language": "python",
   "name": "python3"
  },
  "language_info": {
   "codemirror_mode": {
    "name": "ipython",
    "version": 3
   },
   "file_extension": ".py",
   "mimetype": "text/x-python",
   "name": "python",
   "nbconvert_exporter": "python",
   "pygments_lexer": "ipython3",
   "version": "3.8.5"
  }
 },
 "nbformat": 4,
 "nbformat_minor": 4
}
