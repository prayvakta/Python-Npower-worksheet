{
 "cells": [
  {
   "cell_type": "code",
   "execution_count": 10,
   "metadata": {},
   "outputs": [
    {
     "name": "stdout",
     "output_type": "stream",
     "text": [
      "[1 2 3 4 5]\n"
     ]
    }
   ],
   "source": [
    " #Q1 Write a Python program to create an array of 5 integers and display the array items. \n",
    "    # Access individual element through indexes\n",
    "import numpy as np\n",
    "arr = np.array([1,2,3,4,5])\n",
    "print(arr)"
   ]
  },
  {
   "cell_type": "code",
   "execution_count": 11,
   "metadata": {},
   "outputs": [
    {
     "name": "stdout",
     "output_type": "stream",
     "text": [
      "[5 4 3 2 1]\n"
     ]
    }
   ],
   "source": [
    "#Q2 Write a Python program to reverse the order of the items in the array\n",
    "res_arr = np.flip(arr)\n",
    "print(res_arr)"
   ]
  },
  {
   "cell_type": "code",
   "execution_count": 31,
   "metadata": {},
   "outputs": [
    {
     "name": "stdout",
     "output_type": "stream",
     "text": [
      "[[ 1.  2.]\n",
      " [ 3.  4.]\n",
      " [ 5.  6.]\n",
      " [ 7. 18.]]\n",
      "Shape attribute: (4, 2)\n",
      "dimension attribute: 2\n",
      "Size of each element in bytes: 8\n"
     ]
    }
   ],
   "source": [
    "#Q3 Create a 4X2 integer array and Prints its attributes \n",
    "#The shape of an array.\n",
    "#Array dimensions.\n",
    "#The Length of each element of the array in bytes.\n",
    "arr4_2 = np.array([[1,2],[3,4],[5,6.0],[7,18]])\n",
    "print(arr4_2)\n",
    "print(\"Shape attribute:\",arr4_2.shape)\n",
    "print(\"dimension attribute:\",arr4_2.ndim)\n",
    "print(\"Size of each element in bytes:\", arr4_2.itemsize)"
   ]
  },
  {
   "cell_type": "code",
   "execution_count": 24,
   "metadata": {},
   "outputs": [
    {
     "name": "stdout",
     "output_type": "stream",
     "text": [
      "[[11 22 33]\n",
      " [44 55 66]\n",
      " [77 88 99]]\n",
      "\n",
      "Third column from all the rows: [33 66 99]\n"
     ]
    }
   ],
   "source": [
    "#Q4 return array of items in the third column from all rows in the following numpy array\n",
    "example_arr = np.array([[11 ,22, 33], [44, 55, 66], [77, 88, 99]])\n",
    "print(example_arr)\n",
    "print(\"\\nThird column from all the rows:\",example_arr[:,2])"
   ]
  },
  {
   "cell_type": "code",
   "execution_count": 19,
   "metadata": {},
   "outputs": [
    {
     "name": "stdout",
     "output_type": "stream",
     "text": [
      "[[20 39 33]\n",
      " [25 25 28]]\n"
     ]
    }
   ],
   "source": [
    "#Q5 Create a result array by adding the following two NumPy arrays\n",
    "arrayOne = np.array([[5, 6, 9], [21 ,18, 27]])\n",
    "arrayTwo = np.array([[15 ,33, 24], [4 ,7, 1]])\n",
    "arrayThree = arrayOne + arrayTwo\n",
    "print(arrayThree)"
   ]
  },
  {
   "cell_type": "code",
   "execution_count": 27,
   "metadata": {},
   "outputs": [
    {
     "name": "stdout",
     "output_type": "stream",
     "text": [
      "[[20 33 39]\n",
      " [25 25 28]]\n",
      "[[20 39 33]\n",
      " [25 25 28]]\n"
     ]
    }
   ],
   "source": [
    "#Q6 Sort the previous array\n",
    "sorted_arr = np.sort(arrayThree)\n",
    "print(sorted_arr)\n",
    "print(arrayThree)"
   ]
  }
 ],
 "metadata": {
  "kernelspec": {
   "display_name": "Python 3",
   "language": "python",
   "name": "python3"
  },
  "language_info": {
   "codemirror_mode": {
    "name": "ipython",
    "version": 3
   },
   "file_extension": ".py",
   "mimetype": "text/x-python",
   "name": "python",
   "nbconvert_exporter": "python",
   "pygments_lexer": "ipython3",
   "version": "3.8.5"
  }
 },
 "nbformat": 4,
 "nbformat_minor": 4
}
