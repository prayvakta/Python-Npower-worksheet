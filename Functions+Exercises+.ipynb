{
 "cells": [
  {
   "cell_type": "code",
   "execution_count": 17,
   "metadata": {},
   "outputs": [
    {
     "data": {
      "text/plain": [
       "10"
      ]
     },
     "execution_count": 17,
     "metadata": {},
     "output_type": "execute_result"
    }
   ],
   "source": [
    "#Q1 Write Python function that takes two inputs and return their sum value\n",
    "def addNum(num1, num2):\n",
    "    return num1 + num2\n",
    "addNum(3,7)"
   ]
  },
  {
   "cell_type": "code",
   "execution_count": 18,
   "metadata": {},
   "outputs": [
    {
     "data": {
      "text/plain": [
       "50.0"
      ]
     },
     "execution_count": 18,
     "metadata": {},
     "output_type": "execute_result"
    }
   ],
   "source": [
    "#Q2 Write Python function the takes a celsius temprature and converts it into fahrenheit \n",
    "def convertToF(celsius):\n",
    "    return celsius * 1.8 + 32\n",
    "\n",
    "convertToF(10)"
   ]
  },
  {
   "cell_type": "code",
   "execution_count": 19,
   "metadata": {},
   "outputs": [
    {
     "data": {
      "text/plain": [
       "6"
      ]
     },
     "execution_count": 19,
     "metadata": {},
     "output_type": "execute_result"
    }
   ],
   "source": [
    "#Q3 Write a Python function to find the Max of three numbers\n",
    "def maxOfThree(num1, num2, num3):\n",
    "    list = [num1, num2, num3]\n",
    "    return max(list)\n",
    "maxOfThree(3, 6, 2)"
   ]
  },
  {
   "cell_type": "code",
   "execution_count": 20,
   "metadata": {},
   "outputs": [
    {
     "data": {
      "text/plain": [
       "True"
      ]
     },
     "execution_count": 20,
     "metadata": {},
     "output_type": "execute_result"
    }
   ],
   "source": [
    "#Q4 Write a Python function to check whether a number is in a given range [5,12]\n",
    "def checkInRange(num, start, end):\n",
    "    return num in range(start, end)\n",
    "checkInRange(6, 5, 12)"
   ]
  },
  {
   "cell_type": "code",
   "execution_count": 21,
   "metadata": {},
   "outputs": [
    {
     "data": {
      "text/plain": [
       "[1, 2, 3, 4, 5]"
      ]
     },
     "execution_count": 21,
     "metadata": {},
     "output_type": "execute_result"
    }
   ],
   "source": [
    "#Q5 Write a Python function that takes a list and returns a new list with unique elements of the first\n",
    "Sample_List = [1,2,3,3,3,3,4,5]\n",
    "\n",
    "def makeUniqueList(list):\n",
    "    uniqueList = []\n",
    "    for i in list:\n",
    "        if i not in uniqueList:\n",
    "            uniqueList.append(i)\n",
    "    return uniqueList\n",
    "makeUniqueList(Sample_List)"
   ]
  },
  {
   "cell_type": "code",
   "execution_count": 22,
   "metadata": {},
   "outputs": [
    {
     "name": "stdout",
     "output_type": "stream",
     "text": [
      "True\n",
      "False\n",
      "True\n"
     ]
    }
   ],
   "source": [
    "#Q6 Given a list of numbers, return True if first and last number of a list is same\n",
    "list1=[1,2,5,4,1]\n",
    "list2=[5,6,3,2,1]\n",
    "list3=[88,44,55,66,77,88]\n",
    "def checkEnds(list):\n",
    "    if list[0] == list[-1]:\n",
    "        return True\n",
    "    else:\n",
    "        return False\n",
    "print(checkEnds(list1))\n",
    "print(checkEnds(list2))\n",
    "print(checkEnds(list3))"
   ]
  }
 ],
 "metadata": {
  "kernelspec": {
   "display_name": "Python 3",
   "language": "python",
   "name": "python3"
  },
  "language_info": {
   "codemirror_mode": {
    "name": "ipython",
    "version": 3
   },
   "file_extension": ".py",
   "mimetype": "text/x-python",
   "name": "python",
   "nbconvert_exporter": "python",
   "pygments_lexer": "ipython3",
   "version": "3.8.5"
  }
 },
 "nbformat": 4,
 "nbformat_minor": 4
}
